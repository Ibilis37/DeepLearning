{
  "nbformat": 4,
  "nbformat_minor": 0,
  "metadata": {
    "colab": {
      "provenance": [],
      "authorship_tag": "ABX9TyNFGbFnrSF+4bV5fudNWYyR",
      "include_colab_link": true
    },
    "kernelspec": {
      "name": "python3",
      "display_name": "Python 3"
    },
    "language_info": {
      "name": "python"
    }
  },
  "cells": [
    {
      "cell_type": "markdown",
      "metadata": {
        "id": "view-in-github",
        "colab_type": "text"
      },
      "source": [
        "<a href=\"https://colab.research.google.com/github/Ibilis37/DeepLearning/blob/main/ML_1.ipynb\" target=\"_parent\"><img src=\"https://colab.research.google.com/assets/colab-badge.svg\" alt=\"Open In Colab\"/></a>"
      ]
    },
    {
      "cell_type": "code",
      "source": [
        "import numpy as np\n",
        "import random\n",
        "import copy\n",
        "import random"
      ],
      "metadata": {
        "id": "m-vHCA1cl-ce"
      },
      "execution_count": null,
      "outputs": []
    },
    {
      "cell_type": "markdown",
      "source": [
        " Создаyние модели (без использования готовых решений) простейшего перцептрона, которая будет выполнять функцию логического \"ИЛИ\".\n",
        "\n"
      ],
      "metadata": {
        "id": "R9aL53X7oXr2"
      }
    },
    {
      "cell_type": "code",
      "execution_count": null,
      "metadata": {
        "colab": {
          "base_uri": "https://localhost:8080/"
        },
        "id": "Oee7dSSVjyBA",
        "outputId": "9b7d1e3b-0720-48c1-8a97-bd4998e035f8"
      },
      "outputs": [
        {
          "output_type": "stream",
          "name": "stdout",
          "text": [
            "([-0.1, 0.26], 0)\n",
            "([0.22, 0.4], 0)\n",
            "([0.02, 1.38], 1)\n",
            "([0.01, 0.22], 0)\n",
            "([0.42, -0.18], 0)\n",
            "([1, 0], 1)\n",
            "([1, 0], 1)\n",
            "([0, 0], 0)\n",
            "([0, 0], 0)\n",
            "([0, 1], 1)\n"
          ]
        }
      ],
      "source": [
        "dataset = list()\n",
        "dataset.append(([0, 0],0))\n",
        "dataset.append(([0, 1],1))\n",
        "dataset.append(([1, 0],1))\n",
        "dataset.append(([1, 1],1))\n",
        "\n",
        "noise_dataset = list()\n",
        "for i in range(10000):\n",
        "  noise_dataset.append(copy.deepcopy(random.choice(dataset)))\n",
        "  for j in range(2):\n",
        "    noise_dataset[i][0][j] += (random.randint(-45, 45) * 0.01)\n",
        "\n",
        "dataset_new = list()\n",
        "for i in range(10000):\n",
        "  dataset_new.append(random.choice(dataset))\n",
        "\n",
        "for i in range(5):\n",
        "  print(random.choice(noise_dataset))\n",
        "for i in range(5):\n",
        "  print(random.choice(dataset_new))"
      ]
    },
    {
      "cell_type": "code",
      "source": [
        "# ф-ия активации\n",
        "def result_bin_class(result):\n",
        "  if (result > 0):\n",
        "    return True\n",
        "  else:\n",
        "    return False\n",
        "\n",
        "# ф-ия подсчета суммарного веса полученных сигналов\n",
        "def calculate_res(input_number, first_layer_weights):\n",
        "  sum = 0\n",
        "  for i in range(2):\n",
        "    sum += input_number[0][i] * first_layer_weights[i] # вычисление веса общего сигнала\n",
        "  return sum\n",
        "\n",
        "# ф-ия коррекции весов в зависимости от правильности ответа нейр. сети\n",
        "def weight_changing(positive, target):\n",
        "  k = 0\n",
        "  if (positive and not target): # ошибка 1 рода\n",
        "    k = -0.1\n",
        "  elif (not positive and target): # ошибка 2 рода\n",
        "    k = 0.1\n",
        "  return k\n",
        "\n",
        "# ф-ия для обучения нейронной сети\n",
        "def learn(input_number, first_layer_weights, target):\n",
        "  k = weight_changing(result_bin_class(calculate_res(input_number, first_layer_weights)), True if input_number[1] == target else False)\n",
        "  for i in range(2):\n",
        "    # меняем вклад от каждой ячейки\n",
        "    first_layer_weights[i] += input_number[0][i] * k\n",
        "  return first_layer_weights\n",
        "\n",
        "# ф-ия обучения\n",
        "def train_nn(input_dataset, first_layer_weights, target, size_of_data):\n",
        "  for i in range(size_of_data):\n",
        "    # обучаем на рандомных size_of_data значениях выборки input_dataset\n",
        "    first_layer_weights = learn(random.choice(input_dataset), first_layer_weights, target)"
      ],
      "metadata": {
        "id": "I8CXPeInj7ad"
      },
      "execution_count": null,
      "outputs": []
    },
    {
      "cell_type": "code",
      "source": [
        "first_layer_weights = np.ones((2, 1))\n",
        "train_nn(dataset_new, first_layer_weights, 1, 800)"
      ],
      "metadata": {
        "id": "V2V0oimJluXd"
      },
      "execution_count": null,
      "outputs": []
    },
    {
      "cell_type": "code",
      "source": [
        "first_layer_weights"
      ],
      "metadata": {
        "colab": {
          "base_uri": "https://localhost:8080/"
        },
        "id": "iVodgOLnlv3J",
        "outputId": "1682f170-7c4c-4ad2-8b53-bc440193e148"
      },
      "execution_count": null,
      "outputs": [
        {
          "output_type": "execute_result",
          "data": {
            "text/plain": [
              "array([[1.],\n",
              "       [1.]])"
            ]
          },
          "metadata": {},
          "execution_count": 94
        }
      ]
    },
    {
      "cell_type": "code",
      "source": [
        "# ф-ии для тестирования обученной нейронки\n",
        "def test(input_number, first_layer_weights, target):\n",
        "  if (result_bin_class(calculate_res(input_number, first_layer_weights)) == (True if input_number[1] == target else False)):\n",
        "    return 1\n",
        "  else:\n",
        "    return 0\n",
        "\n",
        "def test_nn(input_dataset, first_layer_weights, target, size_of_data):\n",
        "  res = 0\n",
        "  for i in range(size_of_data):\n",
        "    res += test(random.choice(input_dataset), first_layer_weights, target) # как часто нейронка ошибается - введенная цифра == цели или нет\n",
        "  return (res / size_of_data)"
      ],
      "metadata": {
        "id": "pnaAAjNbmm6d"
      },
      "execution_count": null,
      "outputs": []
    },
    {
      "cell_type": "code",
      "source": [
        "print('Accuracy-score: ', test_nn(dataset, first_layer_weights, 1, 200))"
      ],
      "metadata": {
        "colab": {
          "base_uri": "https://localhost:8080/"
        },
        "id": "s-K8CHBYm0p3",
        "outputId": "655b3469-b381-4abd-a132-36f62184ae4f"
      },
      "execution_count": null,
      "outputs": [
        {
          "output_type": "stream",
          "name": "stdout",
          "text": [
            "Accuracy-score:  1.0\n"
          ]
        }
      ]
    },
    {
      "cell_type": "code",
      "source": [
        "first_layer_weights = np.ones((2, 1))\n",
        "train_nn(noise_dataset, first_layer_weights, 1, 80)\n",
        "print(first_layer_weights)\n",
        "print('Accuracy-score: ', test_nn(noise_dataset, first_layer_weights, 1, 2000))"
      ],
      "metadata": {
        "colab": {
          "base_uri": "https://localhost:8080/"
        },
        "id": "nY2klAyanQiv",
        "outputId": "f23a4558-d8d4-4eec-c31d-f9aeeaf45237"
      },
      "execution_count": null,
      "outputs": [
        {
          "output_type": "stream",
          "name": "stdout",
          "text": [
            "[[0.688]\n",
            " [0.757]]\n",
            "Accuracy-score:  0.885\n"
          ]
        }
      ]
    },
    {
      "cell_type": "code",
      "source": [
        "train_nn(noise_dataset, first_layer_weights, 1, 800)\n",
        "print(first_layer_weights)\n",
        "print('Accuracy-score: ', test_nn(noise_dataset, first_layer_weights, 1, 200))"
      ],
      "metadata": {
        "colab": {
          "base_uri": "https://localhost:8080/"
        },
        "id": "cil9kFTlnbhj",
        "outputId": "109179d4-5cc7-4972-ee4e-bb52e9b4e872"
      },
      "execution_count": null,
      "outputs": [
        {
          "output_type": "stream",
          "name": "stdout",
          "text": [
            "[[0.081]\n",
            " [0.067]]\n",
            "Accuracy-score:  0.855\n"
          ]
        }
      ]
    }
  ]
}