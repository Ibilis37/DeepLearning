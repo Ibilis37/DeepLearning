{
  "nbformat": 4,
  "nbformat_minor": 0,
  "metadata": {
    "colab": {
      "provenance": [],
      "include_colab_link": true
    },
    "kernelspec": {
      "name": "python3",
      "display_name": "Python 3"
    },
    "language_info": {
      "name": "python"
    }
  },
  "cells": [
    {
      "cell_type": "markdown",
      "metadata": {
        "id": "view-in-github",
        "colab_type": "text"
      },
      "source": [
        "<a href=\"https://colab.research.google.com/github/Ibilis37/DeepLearning/blob/main/ML_2.ipynb\" target=\"_parent\"><img src=\"https://colab.research.google.com/assets/colab-badge.svg\" alt=\"Open In Colab\"/></a>"
      ]
    },
    {
      "cell_type": "markdown",
      "source": [
        "\n",
        "Создание нейронной сети, выполняющей мультиклассовую классификацию\n",
        "\n",
        "Создание модели (без использования готовых решений) перцептрона, которая будет определять к какому классу относится релультат операции {+, -}: {отрицательное число, ноль, положительное число}."
      ],
      "metadata": {
        "id": "lDJJ0cNmdgKQ"
      }
    },
    {
      "cell_type": "code",
      "source": [
        "import numpy as np\n",
        "import random\n",
        "import copy"
      ],
      "metadata": {
        "id": "6fCea7dkxVGp"
      },
      "execution_count": null,
      "outputs": []
    },
    {
      "cell_type": "code",
      "source": [
        "dataset = list()\n",
        "\n",
        "actions = ['+','-']\n",
        "\n",
        "for i in range(10000):\n",
        "  temp = list()\n",
        "  temp.append(random.randint(-100, 100) * 0.01)\n",
        "  temp.append(random.randint(-100, 100) * 0.01)\n",
        "  temp.append(random.randint(0, 1))\n",
        "  if temp[2]: # '-'\n",
        "    if temp[0] - temp[1] < 0:\n",
        "      temp.append(0)\n",
        "    elif temp[0] - temp[1] == 0:\n",
        "      temp.append(1)\n",
        "    else:\n",
        "      temp.append(2)\n",
        "  else: # '+'\n",
        "    if temp[0] + temp[1] < 0:\n",
        "      temp.append(0)\n",
        "    elif temp[0] + temp[1] == 0:\n",
        "      temp.append(1)\n",
        "    else:\n",
        "      temp.append(2)\n",
        "  dataset.append(temp)\n"
      ],
      "metadata": {
        "id": "pXZwDlaPeqFg"
      },
      "execution_count": null,
      "outputs": []
    },
    {
      "cell_type": "code",
      "source": [
        "random.choice(dataset)"
      ],
      "metadata": {
        "colab": {
          "base_uri": "https://localhost:8080/"
        },
        "id": "jQHItQKLgATl",
        "outputId": "a8f3325d-231b-4285-e373-00a4c4d78088"
      },
      "execution_count": null,
      "outputs": [
        {
          "output_type": "execute_result",
          "data": {
            "text/plain": [
              "[0.2, -1.0, 1, 2]"
            ]
          },
          "metadata": {},
          "execution_count": 23
        }
      ]
    },
    {
      "cell_type": "code",
      "source": [
        "first_layer_weight_multiclass = np.ones((3, 3))\n",
        "print(first_layer_weight_multiclass)"
      ],
      "metadata": {
        "colab": {
          "base_uri": "https://localhost:8080/"
        },
        "id": "NoyZLWBPxFYh",
        "outputId": "3fdb4004-f5c0-4332-b868-a0d5aedaf447"
      },
      "execution_count": null,
      "outputs": [
        {
          "output_type": "stream",
          "name": "stdout",
          "text": [
            "[[1. 1. 1.]\n",
            " [1. 1. 1.]\n",
            " [1. 1. 1.]]\n"
          ]
        }
      ]
    },
    {
      "cell_type": "code",
      "source": [
        "def calculate_res_multiclass(input_number, first_layer_weights):\n",
        "  sum_array = list()\n",
        "  for j in range(3):\n",
        "    sum_array.append(0)\n",
        "    for i in range(3):\n",
        "      sum_array[j] += input_number[i] * first_layer_weights[i][j]\n",
        "  return sum_array\n",
        "\n",
        "def result_multiclass(sum_array):\n",
        "  return sum_array.index(max(sum_array)) if max(sum_array) > 0 else 0"
      ],
      "metadata": {
        "id": "z1PGhQPl07JY"
      },
      "execution_count": null,
      "outputs": []
    },
    {
      "cell_type": "code",
      "metadata": {
        "id": "H7XjHWvpUfKR"
      },
      "source": [
        "def learn_multiclass(input_number, first_layer_weights):\n",
        "  if (result_multiclass(calculate_res_multiclass(input_number, first_layer_weights)) != input_number[3]):\n",
        "    for j in range(3):\n",
        "      if j == input_number[3]:\n",
        "        k = 0.5\n",
        "      else:\n",
        "        k = -0.1\n",
        "      for i in range(3):\n",
        "        first_layer_weights[i][j] += input_number[i] * k\n",
        "  return first_layer_weights"
      ],
      "execution_count": null,
      "outputs": []
    },
    {
      "cell_type": "code",
      "source": [
        "def train_nn_mc(input_dataset, first_layer_weights, size_of_dataset):\n",
        "  for i in range(size_of_dataset):\n",
        "    learn_multiclass(random.choice(input_dataset), first_layer_weights)"
      ],
      "metadata": {
        "id": "8aHgKTe55Kn2"
      },
      "execution_count": null,
      "outputs": []
    },
    {
      "cell_type": "code",
      "source": [
        "train_nn_mc(dataset, first_layer_weight_multiclass, 80)"
      ],
      "metadata": {
        "id": "ati83I_K52XN"
      },
      "execution_count": null,
      "outputs": []
    },
    {
      "cell_type": "code",
      "source": [
        "def test_multiclass(input_number, first_layer_weights):\n",
        "  if (result_multiclass(calculate_res_multiclass(input_number, first_layer_weights)) == input_number[3]):\n",
        "    return 1\n",
        "  else:\n",
        "    return 0"
      ],
      "metadata": {
        "id": "MQziHV-p7lgH"
      },
      "execution_count": null,
      "outputs": []
    },
    {
      "cell_type": "code",
      "source": [
        "def test_nn_mc(input_dataset, first_layer_weights, size_of_dataset):\n",
        "  res = 0\n",
        "  for i in range(size_of_dataset):\n",
        "    res += test_multiclass(random.choice(input_dataset), first_layer_weights)\n",
        "  return (res / size_of_dataset)"
      ],
      "metadata": {
        "id": "NKdOtoEf7oKe"
      },
      "execution_count": null,
      "outputs": []
    },
    {
      "cell_type": "code",
      "source": [
        "print('Accuracy-score: ', test_nn_mc(dataset, first_layer_weight_multiclass, 2000))"
      ],
      "metadata": {
        "colab": {
          "base_uri": "https://localhost:8080/"
        },
        "id": "IDjSRxAW7oto",
        "outputId": "3362ec9a-350a-4bec-9c6e-29c29c279fea"
      },
      "execution_count": null,
      "outputs": [
        {
          "output_type": "stream",
          "name": "stdout",
          "text": [
            "Accuracy-score:  0.818\n"
          ]
        }
      ]
    }
  ]
}